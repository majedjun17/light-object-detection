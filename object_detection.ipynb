{
  "nbformat": 4,
  "nbformat_minor": 0,
  "metadata": {
    "colab": {
      "provenance": []
    },
    "kernelspec": {
      "name": "python3",
      "display_name": "Python 3"
    },
    "language_info": {
      "name": "python"
    },
    "accelerator": "GPU",
    "gpuClass": "standard"
  },
  "cells": [
    {
      "cell_type": "code",
      "source": [
        "import tensorflow_hub as hub\n",
        "import requests\n",
        "import tensorflow as tf\n",
        "# import numpy as np\n",
        "\n",
        "detector = hub.load(\"https://tfhub.dev/google/openimages_v4/ssd/mobilenet_v2/1\").signatures['default']"
      ],
      "metadata": {
        "id": "ROi3hzfb3gzd"
      },
      "execution_count": 5,
      "outputs": []
    },
    {
      "cell_type": "code",
      "source": [
        "image_url = 'https://assets.weforum.org/article/image/XaHpf_z51huQS_JPHs-jkPhBp0dLlxFJwt-sPLpGJB0.jpg' #example image\n",
        "# Make a request to the link to get the photo\n",
        "response = requests.get(image_url)\n",
        "# Check the status code of the response\n",
        "if response.status_code == 200:\n",
        "    img = response.content\n",
        "    img = tf.io.decode_jpeg(img)\n",
        "    # Write the image data to a file\n",
        "else:\n",
        "    print('Error: Could not download image!')"
      ],
      "metadata": {
        "id": "Ovw_3eV05sdM"
      },
      "execution_count": 3,
      "outputs": []
    },
    {
      "cell_type": "code",
      "execution_count": 6,
      "metadata": {
        "colab": {
          "base_uri": "https://localhost:8080/",
          "height": 0
        },
        "id": "4xbzt5z4qZAf",
        "outputId": "90a391b0-b2fe-4e10-b4e6-3190c1500731"
      },
      "outputs": [
        {
          "output_type": "stream",
          "name": "stdout",
          "text": [
            "Man$Human eye$Human face$Clothing$Human ear$Fashion accessory$Human nose$Human head$Human mouth$Woman$Human hair$Girl$Human arm\n",
            "\n",
            "Man$Woman$Clothing\n"
          ]
        }
      ],
      "source": [
        "converted_img  = tf.image.convert_image_dtype(img, tf.float32)[tf.newaxis, ...]\n",
        "result = detector(converted_img)\n",
        "lis = list({i.numpy().decode('UTF-8') for i in result[\"detection_class_entities\"]})\n",
        "print(('$'.join(lis)))\n",
        "ans = set({})\n",
        "for i in range(min(result[\"detection_boxes\"].shape[0], 10)):\n",
        "    if result[\"detection_scores\"][i] >= 0.1:\n",
        "      ans.add(result[\"detection_class_entities\"][i].numpy().decode('UTF-8'))\n",
        "humCount = 0;\n",
        "fin = set({})\n",
        "for i in ans:\n",
        "\n",
        "  if (i in ['Person', 'Human', 'Man'] or 'Human' in i):#to prevent repetetion\n",
        "    if humCount == 0:\n",
        "      fin.add(i)\n",
        "      humCount += 1\n",
        "  else:\n",
        "    fin.add(i)\n",
        "print()\n",
        "print('$'.join(fin))"
      ]
    }
  ]
}